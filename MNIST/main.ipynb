{
 "cells": [
  {
   "cell_type": "code",
   "execution_count": 2,
   "metadata": {},
   "outputs": [],
   "source": [
    "import pandas as pd\n",
    "import numpy as np\n",
    "import matplotlib.pyplot as plt\n",
    "import seaborn as sns\n",
    "import cv2\n",
    "import tensorflow as tf\n",
    "import keras\n",
    "from PIL import Image\n",
    "tf.random.set_seed(3)\n",
    "from keras.datasets import mnist\n",
    "from tensorflow.math import confusion_matrix\n"
   ]
  },
  {
   "cell_type": "code",
   "execution_count": 25,
   "metadata": {},
   "outputs": [],
   "source": [
    "(X_train, y_train), (X_test, y_test) = mnist.load_data()"
   ]
  },
  {
   "cell_type": "code",
   "execution_count": 26,
   "metadata": {},
   "outputs": [
    {
     "data": {
      "text/plain": [
       "((60000, 28, 28),\n",
       " array([[[0, 0, 0, ..., 0, 0, 0],\n",
       "         [0, 0, 0, ..., 0, 0, 0],\n",
       "         [0, 0, 0, ..., 0, 0, 0],\n",
       "         ...,\n",
       "         [0, 0, 0, ..., 0, 0, 0],\n",
       "         [0, 0, 0, ..., 0, 0, 0],\n",
       "         [0, 0, 0, ..., 0, 0, 0]],\n",
       " \n",
       "        [[0, 0, 0, ..., 0, 0, 0],\n",
       "         [0, 0, 0, ..., 0, 0, 0],\n",
       "         [0, 0, 0, ..., 0, 0, 0],\n",
       "         ...,\n",
       "         [0, 0, 0, ..., 0, 0, 0],\n",
       "         [0, 0, 0, ..., 0, 0, 0],\n",
       "         [0, 0, 0, ..., 0, 0, 0]],\n",
       " \n",
       "        [[0, 0, 0, ..., 0, 0, 0],\n",
       "         [0, 0, 0, ..., 0, 0, 0],\n",
       "         [0, 0, 0, ..., 0, 0, 0],\n",
       "         ...,\n",
       "         [0, 0, 0, ..., 0, 0, 0],\n",
       "         [0, 0, 0, ..., 0, 0, 0],\n",
       "         [0, 0, 0, ..., 0, 0, 0]],\n",
       " \n",
       "        ...,\n",
       " \n",
       "        [[0, 0, 0, ..., 0, 0, 0],\n",
       "         [0, 0, 0, ..., 0, 0, 0],\n",
       "         [0, 0, 0, ..., 0, 0, 0],\n",
       "         ...,\n",
       "         [0, 0, 0, ..., 0, 0, 0],\n",
       "         [0, 0, 0, ..., 0, 0, 0],\n",
       "         [0, 0, 0, ..., 0, 0, 0]],\n",
       " \n",
       "        [[0, 0, 0, ..., 0, 0, 0],\n",
       "         [0, 0, 0, ..., 0, 0, 0],\n",
       "         [0, 0, 0, ..., 0, 0, 0],\n",
       "         ...,\n",
       "         [0, 0, 0, ..., 0, 0, 0],\n",
       "         [0, 0, 0, ..., 0, 0, 0],\n",
       "         [0, 0, 0, ..., 0, 0, 0]],\n",
       " \n",
       "        [[0, 0, 0, ..., 0, 0, 0],\n",
       "         [0, 0, 0, ..., 0, 0, 0],\n",
       "         [0, 0, 0, ..., 0, 0, 0],\n",
       "         ...,\n",
       "         [0, 0, 0, ..., 0, 0, 0],\n",
       "         [0, 0, 0, ..., 0, 0, 0],\n",
       "         [0, 0, 0, ..., 0, 0, 0]]], dtype=uint8))"
      ]
     },
     "execution_count": 26,
     "metadata": {},
     "output_type": "execute_result"
    }
   ],
   "source": [
    "X_train.shape, X_test"
   ]
  },
  {
   "cell_type": "code",
   "execution_count": 27,
   "metadata": {},
   "outputs": [
    {
     "data": {
      "text/plain": [
       "<matplotlib.image.AxesImage at 0x21446616a50>"
      ]
     },
     "execution_count": 27,
     "metadata": {},
     "output_type": "execute_result"
    },
    {
     "data": {
      "image/png": "[encoded data removed]",
      "text/plain": [
       "<Figure size 640x480 with 1 Axes>"
      ]
     },
     "metadata": {},
     "output_type": "display_data"
    }
   ],
   "source": [
    "plt.imshow(X_train[10])"
   ]
  },
  {
   "cell_type": "code",
   "execution_count": 28,
   "metadata": {},
   "outputs": [
    {
     "data": {
      "text/plain": [
       "array([0, 1, 2, 3, 4, 5, 6, 7, 8, 9], dtype=uint8)"
      ]
     },
     "execution_count": 28,
     "metadata": {},
     "output_type": "execute_result"
    }
   ],
   "source": [
    "np.unique(y_test)"
   ]
  },
  {
   "cell_type": "code",
   "execution_count": 29,
   "metadata": {},
   "outputs": [],
   "source": [
    "##scaling\n",
    "X_train = X_train/255\n",
    "X_test = X_test/255"
   ]
  },
  {
   "cell_type": "code",
   "execution_count": 38,
   "metadata": {},
   "outputs": [
    {
     "data": {
      "text/plain": [
       "<matplotlib.image.AxesImage at 0x21446562300>"
      ]
     },
     "execution_count": 38,
     "metadata": {},
     "output_type": "execute_result"
    },
    {
     "data": {
      "image/png": "[encoded data removed]",
      "text/plain": [
       "<Figure size 640x480 with 1 Axes>"
      ]
     },
     "metadata": {},
     "output_type": "display_data"
    }
   ],
   "source": [
    "plt.imshow(X_train[10])"
   ]
  },
  {
   "cell_type": "code",
   "execution_count": 155,
   "metadata": {},
   "outputs": [
    {
     "name": "stderr",
     "output_type": "stream",
     "text": [
      "f:\\deep learning\\myenv1\\Lib\\site-packages\\keras\\src\\layers\\reshaping\\flatten.py:37: UserWarning: Do not pass an `input_shape`/`input_dim` argument to a layer. When using Sequential models, prefer using an `Input(shape)` object as the first layer in the model instead.\n",
      "  super().__init__(**kwargs)\n"
     ]
    }
   ],
   "source": [
    "## ANN\n",
    "model = keras.Sequential([\n",
    "    keras.layers.Flatten(input_shape=(28,28)),\n",
    "    keras.layers.Dense(50, activation='relu'),\n",
    "    keras.layers.Dense(50, activation='relu'),\n",
    "    keras.layers.Dense(10, activation='softmax'),\n",
    "])"
   ]
  },
  {
   "cell_type": "code",
   "execution_count": 156,
   "metadata": {},
   "outputs": [],
   "source": [
    "model.compile(optimizer='adam',\n",
    "              loss='sparse_categorical_crossentropy',\n",
    "              metrics=['accuracy'])"
   ]
  },
  {
   "cell_type": "code",
   "execution_count": 157,
   "metadata": {},
   "outputs": [
    {
     "name": "stdout",
     "output_type": "stream",
     "text": [
      "Epoch 1/10\n",
      "\u001b[1m1875/1875\u001b[0m \u001b[32m━━━━━━━━━━━━━━━━━━━━\u001b[0m\u001b[37m\u001b[0m \u001b[1m5s\u001b[0m 2ms/step - accuracy: 0.8527 - loss: 0.5073\n",
      "Epoch 2/10\n",
      "\u001b[1m1875/1875\u001b[0m \u001b[32m━━━━━━━━━━━━━━━━━━━━\u001b[0m\u001b[37m\u001b[0m \u001b[1m4s\u001b[0m 2ms/step - accuracy: 0.9552 - loss: 0.1512\n",
      "Epoch 3/10\n",
      "\u001b[1m1875/1875\u001b[0m \u001b[32m━━━━━━━━━━━━━━━━━━━━\u001b[0m\u001b[37m\u001b[0m \u001b[1m5s\u001b[0m 2ms/step - accuracy: 0.9670 - loss: 0.1074\n",
      "Epoch 4/10\n",
      "\u001b[1m1875/1875\u001b[0m \u001b[32m━━━━━━━━━━━━━━━━━━━━\u001b[0m\u001b[37m\u001b[0m \u001b[1m5s\u001b[0m 2ms/step - accuracy: 0.9736 - loss: 0.0850\n",
      "Epoch 5/10\n",
      "\u001b[1m1875/1875\u001b[0m \u001b[32m━━━━━━━━━━━━━━━━━━━━\u001b[0m\u001b[37m\u001b[0m \u001b[1m10s\u001b[0m 5ms/step - accuracy: 0.9798 - loss: 0.0687\n",
      "Epoch 6/10\n",
      "\u001b[1m1875/1875\u001b[0m \u001b[32m━━━━━━━━━━━━━━━━━━━━\u001b[0m\u001b[37m\u001b[0m \u001b[1m4s\u001b[0m 2ms/step - accuracy: 0.9822 - loss: 0.0573\n",
      "Epoch 7/10\n",
      "\u001b[1m1875/1875\u001b[0m \u001b[32m━━━━━━━━━━━━━━━━━━━━\u001b[0m\u001b[37m\u001b[0m \u001b[1m4s\u001b[0m 2ms/step - accuracy: 0.9853 - loss: 0.0478\n",
      "Epoch 8/10\n",
      "\u001b[1m1875/1875\u001b[0m \u001b[32m━━━━━━━━━━━━━━━━━━━━\u001b[0m\u001b[37m\u001b[0m \u001b[1m4s\u001b[0m 2ms/step - accuracy: 0.9884 - loss: 0.0396\n",
      "Epoch 9/10\n",
      "\u001b[1m1875/1875\u001b[0m \u001b[32m━━━━━━━━━━━━━━━━━━━━\u001b[0m\u001b[37m\u001b[0m \u001b[1m3s\u001b[0m 2ms/step - accuracy: 0.9900 - loss: 0.0343\n",
      "Epoch 10/10\n",
      "\u001b[1m1875/1875\u001b[0m \u001b[32m━━━━━━━━━━━━━━━━━━━━\u001b[0m\u001b[37m\u001b[0m \u001b[1m3s\u001b[0m 2ms/step - accuracy: 0.9912 - loss: 0.0305\n"
     ]
    },
    {
     "data": {
      "text/plain": [
       "<keras.src.callbacks.history.History at 0x21470675e50>"
      ]
     },
     "execution_count": 157,
     "metadata": {},
     "output_type": "execute_result"
    }
   ],
   "source": [
    "model.fit(X_train, y_train, epochs=10)"
   ]
  },
  {
   "cell_type": "code",
   "execution_count": 158,
   "metadata": {},
   "outputs": [
    {
     "name": "stdout",
     "output_type": "stream",
     "text": [
      "\u001b[1m313/313\u001b[0m \u001b[32m━━━━━━━━━━━━━━━━━━━━\u001b[0m\u001b[37m\u001b[0m \u001b[1m1s\u001b[0m 1ms/step - accuracy: 0.9683 - loss: 0.1231\n"
     ]
    }
   ],
   "source": [
    "loss, accuracy= model.evaluate(X_test, y_test,  )"
   ]
  },
  {
   "cell_type": "code",
   "execution_count": 159,
   "metadata": {},
   "outputs": [
    {
     "name": "stdout",
     "output_type": "stream",
     "text": [
      "\u001b[1m313/313\u001b[0m \u001b[32m━━━━━━━━━━━━━━━━━━━━\u001b[0m\u001b[37m\u001b[0m \u001b[1m0s\u001b[0m 1ms/step\n"
     ]
    }
   ],
   "source": [
    "y_pred = model.predict(X_test)"
   ]
  },
  {
   "cell_type": "code",
   "execution_count": 160,
   "metadata": {},
   "outputs": [],
   "source": [
    "predictions = [np.argmax(i) for i in y_pred]"
   ]
  },
  {
   "cell_type": "code",
   "execution_count": 161,
   "metadata": {},
   "outputs": [
    {
     "data": {
      "text/plain": [
       "[np.int64(7),\n",
       " np.int64(2),\n",
       " np.int64(1),\n",
       " np.int64(0),\n",
       " np.int64(4),\n",
       " np.int64(1),\n",
       " np.int64(4),\n",
       " np.int64(9),\n",
       " np.int64(5),\n",
       " np.int64(9),\n",
       " np.int64(0),\n",
       " np.int64(6),\n",
       " np.int64(9),\n",
       " np.int64(0),\n",
       " np.int64(1),\n",
       " np.int64(5),\n",
       " np.int64(9),\n",
       " np.int64(7),\n",
       " np.int64(3),\n",
       " np.int64(4),\n",
       " np.int64(9),\n",
       " np.int64(6),\n",
       " np.int64(6),\n",
       " np.int64(5),\n",
       " np.int64(4),\n",
       " np.int64(0),\n",
       " np.int64(7),\n",
       " np.int64(4),\n",
       " np.int64(0),\n",
       " np.int64(1),\n",
       " np.int64(3),\n",
       " np.int64(1),\n",
       " np.int64(3),\n",
       " np.int64(4),\n",
       " np.int64(7),\n",
       " np.int64(2),\n",
       " np.int64(7),\n",
       " np.int64(1),\n",
       " np.int64(2),\n",
       " np.int64(1),\n",
       " np.int64(1),\n",
       " np.int64(7),\n",
       " np.int64(4),\n",
       " np.int64(2),\n",
       " np.int64(3),\n",
       " np.int64(5),\n",
       " np.int64(1),\n",
       " np.int64(2),\n",
       " np.int64(4),\n",
       " np.int64(4),\n",
       " np.int64(6),\n",
       " np.int64(3),\n",
       " np.int64(5),\n",
       " np.int64(5),\n",
       " np.int64(6),\n",
       " np.int64(0),\n",
       " np.int64(4),\n",
       " np.int64(1),\n",
       " np.int64(9),\n",
       " np.int64(5),\n",
       " np.int64(7),\n",
       " np.int64(8),\n",
       " np.int64(9),\n",
       " np.int64(3),\n",
       " np.int64(7),\n",
       " np.int64(4),\n",
       " np.int64(6),\n",
       " np.int64(4),\n",
       " np.int64(3),\n",
       " np.int64(0),\n",
       " np.int64(7),\n",
       " np.int64(0),\n",
       " np.int64(2),\n",
       " np.int64(9),\n",
       " np.int64(1),\n",
       " np.int64(7),\n",
       " np.int64(3),\n",
       " np.int64(2),\n",
       " np.int64(9),\n",
       " np.int64(7),\n",
       " np.int64(7),\n",
       " np.int64(6),\n",
       " np.int64(2),\n",
       " np.int64(7),\n",
       " np.int64(8),\n",
       " np.int64(4),\n",
       " np.int64(7),\n",
       " np.int64(3),\n",
       " np.int64(6),\n",
       " np.int64(1),\n",
       " np.int64(3),\n",
       " np.int64(6),\n",
       " np.int64(9),\n",
       " np.int64(3),\n",
       " np.int64(1),\n",
       " np.int64(4),\n",
       " np.int64(1),\n",
       " np.int64(7),\n",
       " np.int64(6),\n",
       " np.int64(9),\n",
       " np.int64(6),\n",
       " np.int64(0),\n",
       " np.int64(5),\n",
       " np.int64(4),\n",
       " np.int64(5),\n",
       " np.int64(9),\n",
       " np.int64(2),\n",
       " np.int64(1),\n",
       " np.int64(9),\n",
       " np.int64(4),\n",
       " np.int64(8),\n",
       " np.int64(7),\n",
       " np.int64(3),\n",
       " np.int64(9),\n",
       " np.int64(7),\n",
       " np.int64(4),\n",
       " np.int64(4),\n",
       " np.int64(4),\n",
       " np.int64(9),\n",
       " np.int64(2),\n",
       " np.int64(5),\n",
       " np.int64(4),\n",
       " np.int64(7),\n",
       " np.int64(6),\n",
       " np.int64(7),\n",
       " np.int64(9),\n",
       " np.int64(0),\n",
       " np.int64(5),\n",
       " np.int64(8),\n",
       " np.int64(5),\n",
       " np.int64(6),\n",
       " np.int64(6),\n",
       " np.int64(5),\n",
       " np.int64(7),\n",
       " np.int64(8),\n",
       " np.int64(1),\n",
       " np.int64(0),\n",
       " np.int64(1),\n",
       " np.int64(6),\n",
       " np.int64(4),\n",
       " np.int64(6),\n",
       " np.int64(7),\n",
       " np.int64(3),\n",
       " np.int64(1),\n",
       " np.int64(7),\n",
       " np.int64(1),\n",
       " np.int64(8),\n",
       " np.int64(2),\n",
       " np.int64(0),\n",
       " np.int64(4),\n",
       " np.int64(9),\n",
       " np.int64(9),\n",
       " np.int64(5),\n",
       " np.int64(5),\n",
       " np.int64(1),\n",
       " np.int64(5),\n",
       " np.int64(6),\n",
       " np.int64(0),\n",
       " np.int64(3),\n",
       " np.int64(4),\n",
       " np.int64(4),\n",
       " np.int64(6),\n",
       " np.int64(5),\n",
       " np.int64(4),\n",
       " np.int64(6),\n",
       " np.int64(5),\n",
       " np.int64(4),\n",
       " np.int64(5),\n",
       " np.int64(1),\n",
       " np.int64(4),\n",
       " np.int64(4),\n",
       " np.int64(7),\n",
       " np.int64(2),\n",
       " np.int64(3),\n",
       " np.int64(2),\n",
       " np.int64(7),\n",
       " np.int64(1),\n",
       " np.int64(8),\n",
       " np.int64(1),\n",
       " np.int64(8),\n",
       " np.int64(1),\n",
       " np.int64(8),\n",
       " np.int64(5),\n",
       " np.int64(0),\n",
       " np.int64(8),\n",
       " np.int64(9),\n",
       " np.int64(2),\n",
       " np.int64(5),\n",
       " np.int64(0),\n",
       " np.int64(1),\n",
       " np.int64(1),\n",
       " np.int64(1),\n",
       " np.int64(0),\n",
       " np.int64(9),\n",
       " np.int64(0),\n",
       " np.int64(3),\n",
       " np.int64(1),\n",
       " np.int64(6),\n",
       " np.int64(4),\n",
       " np.int64(2),\n",
       " np.int64(3),\n",
       " np.int64(6),\n",
       " np.int64(1),\n",
       " np.int64(1),\n",
       " np.int64(1),\n",
       " np.int64(3),\n",
       " np.int64(9),\n",
       " np.int64(5),\n",
       " np.int64(2),\n",
       " np.int64(9),\n",
       " np.int64(4),\n",
       " np.int64(5),\n",
       " np.int64(9),\n",
       " np.int64(3),\n",
       " np.int64(9),\n",
       " np.int64(0),\n",
       " np.int64(3),\n",
       " np.int64(6),\n",
       " np.int64(5),\n",
       " np.int64(5),\n",
       " np.int64(7),\n",
       " np.int64(2),\n",
       " np.int64(2),\n",
       " np.int64(7),\n",
       " np.int64(1),\n",
       " np.int64(2),\n",
       " np.int64(8),\n",
       " np.int64(4),\n",
       " np.int64(1),\n",
       " np.int64(7),\n",
       " np.int64(3),\n",
       " np.int64(3),\n",
       " np.int64(8),\n",
       " np.int64(8),\n",
       " np.int64(7),\n",
       " np.int64(9),\n",
       " np.int64(2),\n",
       " np.int64(2),\n",
       " np.int64(4),\n",
       " np.int64(1),\n",
       " np.int64(5),\n",
       " np.int64(9),\n",
       " np.int64(8),\n",
       " np.int64(7),\n",
       " np.int64(2),\n",
       " np.int64(3),\n",
       " np.int64(0),\n",
       " np.int64(4),\n",
       " np.int64(4),\n",
       " np.int64(2),\n",
       " np.int64(4),\n",
       " np.int64(1),\n",
       " np.int64(9),\n",
       " np.int64(5),\n",
       " np.int64(7),\n",
       " np.int64(7),\n",
       " np.int64(2),\n",
       " np.int64(8),\n",
       " np.int64(2),\n",
       " np.int64(0),\n",
       " np.int64(8),\n",
       " np.int64(5),\n",
       " np.int64(7),\n",
       " np.int64(7),\n",
       " np.int64(9),\n",
       " np.int64(1),\n",
       " np.int64(8),\n",
       " np.int64(1),\n",
       " np.int64(8),\n",
       " np.int64(0),\n",
       " np.int64(3),\n",
       " np.int64(0),\n",
       " np.int64(1),\n",
       " np.int64(9),\n",
       " np.int64(9),\n",
       " np.int64(4),\n",
       " np.int64(1),\n",
       " np.int64(8),\n",
       " np.int64(2),\n",
       " np.int64(1),\n",
       " np.int64(2),\n",
       " np.int64(9),\n",
       " np.int64(7),\n",
       " np.int64(5),\n",
       " np.int64(9),\n",
       " np.int64(2),\n",
       " np.int64(6),\n",
       " np.int64(4),\n",
       " np.int64(1),\n",
       " np.int64(5),\n",
       " np.int64(4),\n",
       " np.int64(2),\n",
       " np.int64(9),\n",
       " np.int64(2),\n",
       " np.int64(0),\n",
       " np.int64(4),\n",
       " np.int64(0),\n",
       " np.int64(0),\n",
       " np.int64(2),\n",
       " np.int64(8),\n",
       " np.int64(4),\n",
       " np.int64(7),\n",
       " np.int64(1),\n",
       " np.int64(2),\n",
       " np.int64(4),\n",
       " np.int64(0),\n",
       " np.int64(2),\n",
       " np.int64(7),\n",
       " np.int64(4),\n",
       " np.int64(3),\n",
       " np.int64(3),\n",
       " np.int64(0),\n",
       " np.int64(0),\n",
       " np.int64(3),\n",
       " np.int64(1),\n",
       " np.int64(9),\n",
       " np.int64(6),\n",
       " np.int64(5),\n",
       " np.int64(2),\n",
       " np.int64(5),\n",
       " np.int64(9),\n",
       " np.int64(7),\n",
       " np.int64(9),\n",
       " np.int64(3),\n",
       " np.int64(0),\n",
       " np.int64(4),\n",
       " np.int64(2),\n",
       " np.int64(0),\n",
       " np.int64(7),\n",
       " np.int64(1),\n",
       " np.int64(1),\n",
       " np.int64(2),\n",
       " np.int64(1),\n",
       " np.int64(5),\n",
       " np.int64(3),\n",
       " np.int64(3),\n",
       " np.int64(9),\n",
       " np.int64(7),\n",
       " np.int64(8),\n",
       " np.int64(6),\n",
       " np.int64(3),\n",
       " np.int64(6),\n",
       " np.int64(1),\n",
       " np.int64(3),\n",
       " np.int64(8),\n",
       " np.int64(1),\n",
       " np.int64(0),\n",
       " np.int64(5),\n",
       " np.int64(1),\n",
       " np.int64(3),\n",
       " np.int64(1),\n",
       " np.int64(5),\n",
       " np.int64(5),\n",
       " np.int64(6),\n",
       " np.int64(1),\n",
       " np.int64(8),\n",
       " np.int64(5),\n",
       " np.int64(1),\n",
       " np.int64(7),\n",
       " np.int64(9),\n",
       " np.int64(4),\n",
       " np.int64(6),\n",
       " np.int64(2),\n",
       " np.int64(2),\n",
       " np.int64(5),\n",
       " np.int64(0),\n",
       " np.int64(6),\n",
       " np.int64(5),\n",
       " np.int64(6),\n",
       " np.int64(3),\n",
       " np.int64(7),\n",
       " np.int64(2),\n",
       " np.int64(0),\n",
       " np.int64(8),\n",
       " np.int64(8),\n",
       " np.int64(5),\n",
       " np.int64(4),\n",
       " np.int64(1),\n",
       " np.int64(1),\n",
       " np.int64(4),\n",
       " np.int64(0),\n",
       " np.int64(3),\n",
       " np.int64(3),\n",
       " np.int64(7),\n",
       " np.int64(6),\n",
       " np.int64(1),\n",
       " np.int64(6),\n",
       " np.int64(2),\n",
       " np.int64(1),\n",
       " np.int64(9),\n",
       " np.int64(2),\n",
       " np.int64(8),\n",
       " np.int64(6),\n",
       " np.int64(1),\n",
       " np.int64(9),\n",
       " np.int64(5),\n",
       " np.int64(2),\n",
       " np.int64(5),\n",
       " np.int64(4),\n",
       " np.int64(4),\n",
       " np.int64(2),\n",
       " np.int64(8),\n",
       " np.int64(3),\n",
       " np.int64(8),\n",
       " np.int64(2),\n",
       " np.int64(4),\n",
       " np.int64(5),\n",
       " np.int64(0),\n",
       " np.int64(3),\n",
       " np.int64(1),\n",
       " np.int64(7),\n",
       " np.int64(7),\n",
       " np.int64(5),\n",
       " np.int64(7),\n",
       " np.int64(9),\n",
       " np.int64(7),\n",
       " np.int64(1),\n",
       " np.int64(9),\n",
       " np.int64(2),\n",
       " np.int64(1),\n",
       " np.int64(4),\n",
       " np.int64(2),\n",
       " np.int64(9),\n",
       " np.int64(2),\n",
       " np.int64(0),\n",
       " np.int64(4),\n",
       " np.int64(9),\n",
       " np.int64(1),\n",
       " np.int64(4),\n",
       " np.int64(8),\n",
       " np.int64(1),\n",
       " np.int64(8),\n",
       " np.int64(6),\n",
       " np.int64(5),\n",
       " np.int64(9),\n",
       " np.int64(8),\n",
       " np.int64(8),\n",
       " np.int64(3),\n",
       " np.int64(7),\n",
       " np.int64(6),\n",
       " np.int64(0),\n",
       " np.int64(0),\n",
       " np.int64(3),\n",
       " np.int64(0),\n",
       " np.int64(2),\n",
       " np.int64(0),\n",
       " np.int64(6),\n",
       " np.int64(4),\n",
       " np.int64(9),\n",
       " np.int64(3),\n",
       " np.int64(3),\n",
       " np.int64(3),\n",
       " np.int64(2),\n",
       " np.int64(3),\n",
       " np.int64(9),\n",
       " np.int64(1),\n",
       " np.int64(2),\n",
       " np.int64(6),\n",
       " np.int64(8),\n",
       " np.int64(0),\n",
       " np.int64(5),\n",
       " np.int64(6),\n",
       " np.int64(6),\n",
       " np.int64(6),\n",
       " np.int64(3),\n",
       " np.int64(8),\n",
       " np.int64(8),\n",
       " np.int64(2),\n",
       " np.int64(7),\n",
       " np.int64(5),\n",
       " np.int64(8),\n",
       " np.int64(9),\n",
       " np.int64(6),\n",
       " np.int64(1),\n",
       " np.int64(8),\n",
       " np.int64(4),\n",
       " np.int64(1),\n",
       " np.int64(2),\n",
       " np.int64(5),\n",
       " np.int64(9),\n",
       " np.int64(1),\n",
       " np.int64(9),\n",
       " np.int64(7),\n",
       " np.int64(5),\n",
       " np.int64(4),\n",
       " np.int64(0),\n",
       " np.int64(8),\n",
       " np.int64(9),\n",
       " np.int64(9),\n",
       " np.int64(1),\n",
       " np.int64(0),\n",
       " np.int64(5),\n",
       " np.int64(2),\n",
       " np.int64(3),\n",
       " np.int64(7),\n",
       " np.int64(0),\n",
       " np.int64(9),\n",
       " np.int64(4),\n",
       " np.int64(0),\n",
       " np.int64(6),\n",
       " np.int64(3),\n",
       " np.int64(9),\n",
       " np.int64(5),\n",
       " np.int64(2),\n",
       " np.int64(1),\n",
       " np.int64(3),\n",
       " np.int64(1),\n",
       " np.int64(3),\n",
       " np.int64(6),\n",
       " np.int64(5),\n",
       " np.int64(7),\n",
       " np.int64(4),\n",
       " np.int64(2),\n",
       " np.int64(2),\n",
       " np.int64(6),\n",
       " np.int64(3),\n",
       " np.int64(2),\n",
       " np.int64(6),\n",
       " np.int64(5),\n",
       " np.int64(4),\n",
       " np.int64(8),\n",
       " np.int64(9),\n",
       " np.int64(7),\n",
       " np.int64(1),\n",
       " np.int64(3),\n",
       " np.int64(0),\n",
       " np.int64(3),\n",
       " np.int64(8),\n",
       " np.int64(3),\n",
       " np.int64(1),\n",
       " np.int64(9),\n",
       " np.int64(3),\n",
       " np.int64(4),\n",
       " np.int64(4),\n",
       " np.int64(6),\n",
       " np.int64(4),\n",
       " np.int64(2),\n",
       " np.int64(1),\n",
       " np.int64(8),\n",
       " np.int64(2),\n",
       " np.int64(5),\n",
       " np.int64(4),\n",
       " np.int64(8),\n",
       " np.int64(8),\n",
       " np.int64(4),\n",
       " np.int64(0),\n",
       " np.int64(0),\n",
       " np.int64(2),\n",
       " np.int64(3),\n",
       " np.int64(2),\n",
       " np.int64(7),\n",
       " np.int64(7),\n",
       " np.int64(9),\n",
       " np.int64(8),\n",
       " np.int64(7),\n",
       " np.int64(4),\n",
       " np.int64(4),\n",
       " np.int64(7),\n",
       " np.int64(9),\n",
       " np.int64(6),\n",
       " np.int64(9),\n",
       " np.int64(0),\n",
       " np.int64(9),\n",
       " np.int64(8),\n",
       " np.int64(0),\n",
       " np.int64(4),\n",
       " np.int64(6),\n",
       " np.int64(0),\n",
       " np.int64(6),\n",
       " np.int64(3),\n",
       " np.int64(5),\n",
       " np.int64(4),\n",
       " np.int64(8),\n",
       " np.int64(3),\n",
       " np.int64(3),\n",
       " np.int64(9),\n",
       " np.int64(3),\n",
       " np.int64(3),\n",
       " np.int64(3),\n",
       " np.int64(7),\n",
       " np.int64(8),\n",
       " np.int64(0),\n",
       " np.int64(2),\n",
       " np.int64(7),\n",
       " np.int64(1),\n",
       " np.int64(7),\n",
       " np.int64(0),\n",
       " np.int64(6),\n",
       " np.int64(5),\n",
       " np.int64(4),\n",
       " np.int64(3),\n",
       " np.int64(8),\n",
       " np.int64(0),\n",
       " np.int64(9),\n",
       " np.int64(6),\n",
       " np.int64(3),\n",
       " np.int64(8),\n",
       " np.int64(0),\n",
       " np.int64(9),\n",
       " np.int64(9),\n",
       " np.int64(6),\n",
       " np.int64(8),\n",
       " np.int64(6),\n",
       " np.int64(8),\n",
       " np.int64(5),\n",
       " np.int64(7),\n",
       " np.int64(8),\n",
       " np.int64(6),\n",
       " np.int64(0),\n",
       " np.int64(2),\n",
       " np.int64(4),\n",
       " np.int64(0),\n",
       " np.int64(2),\n",
       " np.int64(2),\n",
       " np.int64(3),\n",
       " np.int64(1),\n",
       " np.int64(9),\n",
       " np.int64(7),\n",
       " np.int64(5),\n",
       " np.int64(8),\n",
       " np.int64(0),\n",
       " np.int64(8),\n",
       " np.int64(4),\n",
       " np.int64(6),\n",
       " np.int64(2),\n",
       " np.int64(6),\n",
       " np.int64(7),\n",
       " np.int64(9),\n",
       " np.int64(3),\n",
       " np.int64(2),\n",
       " np.int64(9),\n",
       " np.int64(8),\n",
       " np.int64(2),\n",
       " np.int64(2),\n",
       " np.int64(9),\n",
       " np.int64(2),\n",
       " np.int64(7),\n",
       " np.int64(3),\n",
       " np.int64(5),\n",
       " np.int64(9),\n",
       " np.int64(1),\n",
       " np.int64(8),\n",
       " np.int64(0),\n",
       " np.int64(2),\n",
       " np.int64(0),\n",
       " np.int64(5),\n",
       " np.int64(6),\n",
       " np.int64(1),\n",
       " np.int64(3),\n",
       " np.int64(7),\n",
       " np.int64(6),\n",
       " np.int64(7),\n",
       " np.int64(1),\n",
       " np.int64(2),\n",
       " np.int64(5),\n",
       " np.int64(8),\n",
       " np.int64(0),\n",
       " np.int64(3),\n",
       " np.int64(9),\n",
       " np.int64(1),\n",
       " np.int64(4),\n",
       " np.int64(0),\n",
       " np.int64(9),\n",
       " np.int64(1),\n",
       " np.int64(8),\n",
       " np.int64(6),\n",
       " np.int64(7),\n",
       " np.int64(7),\n",
       " np.int64(4),\n",
       " np.int64(3),\n",
       " np.int64(4),\n",
       " np.int64(9),\n",
       " np.int64(1),\n",
       " np.int64(9),\n",
       " np.int64(5),\n",
       " np.int64(1),\n",
       " np.int64(7),\n",
       " np.int64(3),\n",
       " np.int64(9),\n",
       " np.int64(7),\n",
       " np.int64(6),\n",
       " np.int64(9),\n",
       " np.int64(1),\n",
       " np.int64(3),\n",
       " np.int64(3),\n",
       " np.int64(8),\n",
       " np.int64(3),\n",
       " np.int64(3),\n",
       " np.int64(6),\n",
       " np.int64(7),\n",
       " np.int64(2),\n",
       " np.int64(4),\n",
       " np.int64(5),\n",
       " np.int64(8),\n",
       " np.int64(5),\n",
       " np.int64(1),\n",
       " np.int64(1),\n",
       " np.int64(4),\n",
       " np.int64(4),\n",
       " np.int64(3),\n",
       " np.int64(1),\n",
       " np.int64(0),\n",
       " np.int64(7),\n",
       " np.int64(7),\n",
       " np.int64(0),\n",
       " np.int64(7),\n",
       " np.int64(9),\n",
       " np.int64(9),\n",
       " np.int64(4),\n",
       " np.int64(8),\n",
       " np.int64(5),\n",
       " np.int64(5),\n",
       " np.int64(4),\n",
       " np.int64(0),\n",
       " np.int64(8),\n",
       " np.int64(2),\n",
       " np.int64(1),\n",
       " np.int64(6),\n",
       " np.int64(8),\n",
       " np.int64(4),\n",
       " np.int64(8),\n",
       " np.int64(0),\n",
       " np.int64(4),\n",
       " np.int64(0),\n",
       " np.int64(6),\n",
       " np.int64(1),\n",
       " np.int64(7),\n",
       " np.int64(3),\n",
       " np.int64(2),\n",
       " np.int64(6),\n",
       " np.int64(7),\n",
       " np.int64(2),\n",
       " np.int64(6),\n",
       " np.int64(9),\n",
       " np.int64(3),\n",
       " np.int64(1),\n",
       " np.int64(4),\n",
       " np.int64(6),\n",
       " np.int64(2),\n",
       " np.int64(5),\n",
       " np.int64(9),\n",
       " np.int64(2),\n",
       " np.int64(0),\n",
       " np.int64(6),\n",
       " np.int64(2),\n",
       " np.int64(1),\n",
       " np.int64(7),\n",
       " np.int64(3),\n",
       " np.int64(4),\n",
       " np.int64(1),\n",
       " np.int64(0),\n",
       " np.int64(5),\n",
       " np.int64(4),\n",
       " np.int64(3),\n",
       " np.int64(1),\n",
       " np.int64(1),\n",
       " np.int64(7),\n",
       " np.int64(4),\n",
       " np.int64(9),\n",
       " np.int64(9),\n",
       " np.int64(4),\n",
       " np.int64(8),\n",
       " np.int64(4),\n",
       " np.int64(0),\n",
       " np.int64(2),\n",
       " np.int64(4),\n",
       " np.int64(5),\n",
       " np.int64(1),\n",
       " np.int64(1),\n",
       " np.int64(6),\n",
       " np.int64(4),\n",
       " np.int64(7),\n",
       " np.int64(1),\n",
       " np.int64(9),\n",
       " np.int64(4),\n",
       " np.int64(2),\n",
       " np.int64(4),\n",
       " np.int64(1),\n",
       " np.int64(5),\n",
       " np.int64(5),\n",
       " np.int64(3),\n",
       " np.int64(8),\n",
       " np.int64(3),\n",
       " np.int64(1),\n",
       " np.int64(4),\n",
       " np.int64(5),\n",
       " np.int64(6),\n",
       " np.int64(8),\n",
       " np.int64(9),\n",
       " np.int64(4),\n",
       " np.int64(1),\n",
       " np.int64(5),\n",
       " np.int64(3),\n",
       " np.int64(8),\n",
       " np.int64(0),\n",
       " np.int64(3),\n",
       " np.int64(2),\n",
       " np.int64(5),\n",
       " np.int64(1),\n",
       " np.int64(2),\n",
       " np.int64(8),\n",
       " np.int64(3),\n",
       " np.int64(4),\n",
       " np.int64(4),\n",
       " np.int64(0),\n",
       " np.int64(8),\n",
       " np.int64(8),\n",
       " np.int64(3),\n",
       " np.int64(3),\n",
       " np.int64(1),\n",
       " np.int64(7),\n",
       " np.int64(3),\n",
       " np.int64(5),\n",
       " np.int64(9),\n",
       " np.int64(6),\n",
       " np.int64(3),\n",
       " np.int64(2),\n",
       " np.int64(6),\n",
       " np.int64(1),\n",
       " np.int64(3),\n",
       " np.int64(6),\n",
       " np.int64(0),\n",
       " np.int64(7),\n",
       " np.int64(2),\n",
       " np.int64(1),\n",
       " np.int64(7),\n",
       " np.int64(1),\n",
       " np.int64(4),\n",
       " np.int64(2),\n",
       " np.int64(4),\n",
       " np.int64(2),\n",
       " np.int64(1),\n",
       " np.int64(7),\n",
       " np.int64(9),\n",
       " np.int64(6),\n",
       " np.int64(1),\n",
       " np.int64(1),\n",
       " np.int64(2),\n",
       " np.int64(4),\n",
       " np.int64(8),\n",
       " np.int64(1),\n",
       " np.int64(7),\n",
       " np.int64(7),\n",
       " np.int64(4),\n",
       " np.int64(8),\n",
       " np.int64(0),\n",
       " np.int64(9),\n",
       " np.int64(3),\n",
       " np.int64(1),\n",
       " np.int64(3),\n",
       " np.int64(1),\n",
       " np.int64(0),\n",
       " np.int64(7),\n",
       " np.int64(7),\n",
       " np.int64(0),\n",
       " np.int64(3),\n",
       " np.int64(5),\n",
       " np.int64(5),\n",
       " np.int64(2),\n",
       " np.int64(7),\n",
       " np.int64(6),\n",
       " np.int64(6),\n",
       " np.int64(9),\n",
       " np.int64(2),\n",
       " np.int64(8),\n",
       " np.int64(3),\n",
       " np.int64(5),\n",
       " np.int64(2),\n",
       " np.int64(2),\n",
       " np.int64(5),\n",
       " np.int64(6),\n",
       " np.int64(0),\n",
       " np.int64(8),\n",
       " np.int64(2),\n",
       " np.int64(9),\n",
       " np.int64(2),\n",
       " np.int64(8),\n",
       " np.int64(8),\n",
       " np.int64(8),\n",
       " np.int64(8),\n",
       " np.int64(7),\n",
       " np.int64(4),\n",
       " np.int64(9),\n",
       " np.int64(3),\n",
       " np.int64(0),\n",
       " np.int64(6),\n",
       " np.int64(6),\n",
       " np.int64(3),\n",
       " np.int64(2),\n",
       " np.int64(1),\n",
       " np.int64(3),\n",
       " np.int64(2),\n",
       " np.int64(2),\n",
       " np.int64(9),\n",
       " np.int64(3),\n",
       " np.int64(0),\n",
       " np.int64(0),\n",
       " np.int64(5),\n",
       " np.int64(7),\n",
       " np.int64(8),\n",
       " np.int64(3),\n",
       " np.int64(4),\n",
       " np.int64(4),\n",
       " np.int64(6),\n",
       " np.int64(0),\n",
       " np.int64(2),\n",
       " np.int64(9),\n",
       " np.int64(1),\n",
       " np.int64(4),\n",
       " np.int64(7),\n",
       " np.int64(4),\n",
       " np.int64(7),\n",
       " np.int64(3),\n",
       " np.int64(9),\n",
       " np.int64(8),\n",
       " np.int64(8),\n",
       " np.int64(4),\n",
       " np.int64(7),\n",
       " np.int64(1),\n",
       " np.int64(2),\n",
       " np.int64(1),\n",
       " np.int64(2),\n",
       " np.int64(2),\n",
       " np.int64(3),\n",
       " np.int64(2),\n",
       " np.int64(3),\n",
       " np.int64(2),\n",
       " np.int64(3),\n",
       " np.int64(9),\n",
       " np.int64(1),\n",
       " np.int64(7),\n",
       " np.int64(4),\n",
       " np.int64(0),\n",
       " np.int64(3),\n",
       " np.int64(5),\n",
       " np.int64(5),\n",
       " np.int64(8),\n",
       " np.int64(6),\n",
       " np.int64(3),\n",
       " np.int64(2),\n",
       " np.int64(6),\n",
       " np.int64(7),\n",
       " np.int64(6),\n",
       " np.int64(6),\n",
       " np.int64(3),\n",
       " np.int64(2),\n",
       " np.int64(7),\n",
       " np.int64(9),\n",
       " np.int64(1),\n",
       " np.int64(1),\n",
       " np.int64(7),\n",
       " np.int64(7),\n",
       " np.int64(6),\n",
       " np.int64(4),\n",
       " np.int64(9),\n",
       " np.int64(5),\n",
       " np.int64(2),\n",
       " np.int64(3),\n",
       " np.int64(3),\n",
       " np.int64(4),\n",
       " np.int64(7),\n",
       " np.int64(8),\n",
       " np.int64(9),\n",
       " np.int64(1),\n",
       " np.int64(1),\n",
       " np.int64(0),\n",
       " np.int64(9),\n",
       " np.int64(1),\n",
       " np.int64(4),\n",
       " np.int64(4),\n",
       " np.int64(5),\n",
       " np.int64(4),\n",
       " np.int64(0),\n",
       " np.int64(6),\n",
       " np.int64(2),\n",
       " np.int64(2),\n",
       " np.int64(3),\n",
       " np.int64(1),\n",
       " np.int64(5),\n",
       " np.int64(1),\n",
       " np.int64(2),\n",
       " np.int64(0),\n",
       " np.int64(3),\n",
       " np.int64(8),\n",
       " np.int64(1),\n",
       " np.int64(2),\n",
       " np.int64(6),\n",
       " np.int64(7),\n",
       " np.int64(1),\n",
       " np.int64(6),\n",
       " np.int64(2),\n",
       " np.int64(3),\n",
       " np.int64(9),\n",
       " np.int64(0),\n",
       " np.int64(1),\n",
       " np.int64(2),\n",
       " np.int64(2),\n",
       " np.int64(0),\n",
       " np.int64(8),\n",
       " np.int64(9),\n",
       " ...]"
      ]
     },
     "execution_count": 161,
     "metadata": {},
     "output_type": "execute_result"
    }
   ],
   "source": [
    "predictions"
   ]
  },
  {
   "cell_type": "code",
   "execution_count": 162,
   "metadata": {},
   "outputs": [
    {
     "data": {
      "text/plain": [
       "array([7, 2, 1, ..., 4, 5, 6])"
      ]
     },
     "execution_count": 162,
     "metadata": {},
     "output_type": "execute_result"
    }
   ],
   "source": [
    "predictions=np.array(predictions)\n",
    "predictions"
   ]
  },
  {
   "cell_type": "code",
   "execution_count": 163,
   "metadata": {},
   "outputs": [
    {
     "data": {
      "text/plain": [
       "<tf.Tensor: shape=(10, 10), dtype=int32, numpy=\n",
       "array([[ 961,    0,    2,    2,    2,    1,    2,    1,    2,    7],\n",
       "       [   0, 1114,    3,    3,    3,    0,    5,    2,    5,    0],\n",
       "       [   4,    1,  996,    6,    3,    0,    5,    4,   13,    0],\n",
       "       [   0,    0,    0,  995,    0,    0,    0,    5,    4,    6],\n",
       "       [   0,    0,    2,    0,  963,    0,    5,    1,    1,   10],\n",
       "       [   2,    0,    1,   26,    0,  846,    6,    2,    4,    5],\n",
       "       [   7,    2,    0,    1,    2,    5,  940,    0,    1,    0],\n",
       "       [   2,    3,   10,    4,    1,    0,    1,  977,    2,   28],\n",
       "       [   3,    0,    3,    9,    5,    4,    4,    3,  938,    5],\n",
       "       [   1,    3,    0,    4,   12,    3,    1,    0,    2,  983]],\n",
       "      dtype=int32)>"
      ]
     },
     "execution_count": 163,
     "metadata": {},
     "output_type": "execute_result"
    }
   ],
   "source": [
    "conf_mat = confusion_matrix(y_test, predictions)\n",
    "conf_mat"
   ]
  },
  {
   "cell_type": "code",
   "execution_count": 164,
   "metadata": {},
   "outputs": [
    {
     "data": {
      "text/plain": [
       "<Axes: >"
      ]
     },
     "execution_count": 164,
     "metadata": {},
     "output_type": "execute_result"
    },
    {
     "data": {
      "image/png": "[encoded data removed]",
      "text/plain": [
       "<Figure size 1500x700 with 2 Axes>"
      ]
     },
     "metadata": {},
     "output_type": "display_data"
    }
   ],
   "source": [
    "plt.figure(figsize=(15,7))\n",
    "sns.heatmap(conf_mat, annot=True, fmt= 'd', cmap='Blues')"
   ]
  },
  {
   "cell_type": "code",
   "execution_count": 210,
   "metadata": {},
   "outputs": [],
   "source": [
    "img_path = '5img.jpg'"
   ]
  },
  {
   "cell_type": "code",
   "execution_count": 211,
   "metadata": {},
   "outputs": [],
   "source": [
    "input_imj = cv2.imread(img_path)"
   ]
  },
  {
   "cell_type": "code",
   "execution_count": 212,
   "metadata": {},
   "outputs": [
    {
     "data": {
      "text/plain": [
       "numpy.ndarray"
      ]
     },
     "execution_count": 212,
     "metadata": {},
     "output_type": "execute_result"
    }
   ],
   "source": [
    "type(input_imj)"
   ]
  },
  {
   "cell_type": "code",
   "execution_count": 213,
   "metadata": {},
   "outputs": [
    {
     "data": {
      "text/plain": [
       "(72, 71, 3)"
      ]
     },
     "execution_count": 213,
     "metadata": {},
     "output_type": "execute_result"
    }
   ],
   "source": [
    "input_imj.shape"
   ]
  },
  {
   "cell_type": "code",
   "execution_count": 214,
   "metadata": {},
   "outputs": [
    {
     "data": {
      "text/plain": [
       "<matplotlib.image.AxesImage at 0x214732660c0>"
      ]
     },
     "execution_count": 214,
     "metadata": {},
     "output_type": "execute_result"
    },
    {
     "data": {
      "image/png": "[encoded data removed]",
      "text/plain": [
       "<Figure size 640x480 with 1 Axes>"
      ]
     },
     "metadata": {},
     "output_type": "display_data"
    }
   ],
   "source": [
    "plt.imshow(input_imj)"
   ]
  },
  {
   "cell_type": "code",
   "execution_count": 215,
   "metadata": {},
   "outputs": [],
   "source": [
    "greyscale = cv2.cvtColor(input_imj, cv2.COLOR_RGB2GRAY)"
   ]
  },
  {
   "cell_type": "code",
   "execution_count": 216,
   "metadata": {},
   "outputs": [
    {
     "data": {
      "text/plain": [
       "(72, 71)"
      ]
     },
     "execution_count": 216,
     "metadata": {},
     "output_type": "execute_result"
    }
   ],
   "source": [
    "greyscale.shape"
   ]
  },
  {
   "cell_type": "code",
   "execution_count": 217,
   "metadata": {},
   "outputs": [],
   "source": [
    "input_resize = cv2.resize(greyscale,(28,28))"
   ]
  },
  {
   "cell_type": "code",
   "execution_count": 218,
   "metadata": {},
   "outputs": [
    {
     "data": {
      "text/plain": [
       "<matplotlib.image.AxesImage at 0x21473121eb0>"
      ]
     },
     "execution_count": 218,
     "metadata": {},
     "output_type": "execute_result"
    },
    {
     "data": {
      "image/png": "[encoded data removed]",
      "text/plain": [
       "<Figure size 640x480 with 1 Axes>"
      ]
     },
     "metadata": {},
     "output_type": "display_data"
    }
   ],
   "source": [
    "plt.imshow(input_resize)"
   ]
  },
  {
   "cell_type": "code",
   "execution_count": 219,
   "metadata": {},
   "outputs": [],
   "source": [
    "input_resize = input_resize/255"
   ]
  },
  {
   "cell_type": "code",
   "execution_count": 220,
   "metadata": {},
   "outputs": [
    {
     "data": {
      "text/plain": [
       "<matplotlib.image.AxesImage at 0x21472b8dc40>"
      ]
     },
     "execution_count": 220,
     "metadata": {},
     "output_type": "execute_result"
    },
    {
     "data": {
      "image/png": "[encoded data removed]",
      "text/plain": [
       "<Figure size 640x480 with 1 Axes>"
      ]
     },
     "metadata": {},
     "output_type": "display_data"
    }
   ],
   "source": [
    "plt.imshow(input_resize)"
   ]
  },
  {
   "cell_type": "code",
   "execution_count": 221,
   "metadata": {},
   "outputs": [],
   "source": [
    "input_reshape = np.reshape(input_resize, [1,28,28])"
   ]
  },
  {
   "cell_type": "code",
   "execution_count": 222,
   "metadata": {},
   "outputs": [
    {
     "data": {
      "text/plain": [
       "<matplotlib.image.AxesImage at 0x21473486f30>"
      ]
     },
     "execution_count": 222,
     "metadata": {},
     "output_type": "execute_result"
    },
    {
     "data": {
      "image/png": "[encoded data removed]",
      "text/plain": [
       "<Figure size 640x480 with 1 Axes>"
      ]
     },
     "metadata": {},
     "output_type": "display_data"
    }
   ],
   "source": [
    "plt.imshow(input_reshape[0])"
   ]
  },
  {
   "cell_type": "code",
   "execution_count": 223,
   "metadata": {},
   "outputs": [
    {
     "name": "stdout",
     "output_type": "stream",
     "text": [
      "\u001b[1m1/1\u001b[0m \u001b[32m━━━━━━━━━━━━━━━━━━━━\u001b[0m\u001b[37m\u001b[0m \u001b[1m0s\u001b[0m 37ms/step\n"
     ]
    },
    {
     "data": {
      "text/plain": [
       "array([[5.26643423e-16, 6.64069385e-20, 1.58844188e-07, 4.53621125e-12,\n",
       "        1.10333036e-34, 9.99999881e-01, 9.71666414e-10, 1.04951224e-13,\n",
       "        1.75019242e-17, 1.44462344e-20]], dtype=float32)"
      ]
     },
     "execution_count": 223,
     "metadata": {},
     "output_type": "execute_result"
    }
   ],
   "source": [
    "prediction = model.predict(input_reshape)\n",
    "prediction"
   ]
  },
  {
   "cell_type": "code",
   "execution_count": 224,
   "metadata": {},
   "outputs": [
    {
     "data": {
      "text/plain": [
       "np.int64(5)"
      ]
     },
     "execution_count": 224,
     "metadata": {},
     "output_type": "execute_result"
    }
   ],
   "source": [
    "np.argmax(prediction)"
   ]
  },
  {
   "cell_type": "code",
   "execution_count": null,
   "metadata": {},
   "outputs": [],
   "source": []
  }
 ],
 "metadata": {
  "kernelspec": {
   "display_name": "myenv1",
   "language": "python",
   "name": "python3"
  },
  "language_info": {
   "codemirror_mode": {
    "name": "ipython",
    "version": 3
   },
   "file_extension": ".py",
   "mimetype": "text/x-python",
   "name": "python",
   "nbconvert_exporter": "python",
   "pygments_lexer": "ipython3",
   "version": "3.12.4"
  }
 },
 "nbformat": 4,
 "nbformat_minor": 2
}
